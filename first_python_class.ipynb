{
 "cells": [
  {
   "cell_type": "code",
   "execution_count": 1,
   "metadata": {},
   "outputs": [
    {
     "data": {
      "text/plain": [
       "4"
      ]
     },
     "execution_count": 1,
     "metadata": {},
     "output_type": "execute_result"
    }
   ],
   "source": [
    "2+2"
   ]
  },
  {
   "cell_type": "code",
   "execution_count": 4,
   "metadata": {},
   "outputs": [
    {
     "name": "stdout",
     "output_type": "stream",
     "text": [
      "Hello, world!\n",
      "It is good to meet you, test\n",
      "The length of your name is 4\n",
      "Your age in one year is: 101\n"
     ]
    }
   ],
   "source": [
    "print(\"Hello, world!\")\n",
    "name = input(\"What is your name? \")\n",
    "print(\"It is good to meet you, \" + name)\n",
    "print(\"The length of your name is \" + str(len(name)))\n",
    "age = input(\"What is your age?\")\n",
    "print(\"Your age in one year is: \" + str(int(age) + 1))"
   ]
  },
  {
   "cell_type": "code",
   "execution_count": null,
   "metadata": {},
   "outputs": [],
   "source": [
    "import random\n",
    "print(\"I am thinking of a number between 1 and 20\")\n",
    "r = random.randint(1, 20)\n",
    "for attempts in range(6):\n",
    "  guess = input(\"Guess a number\")\n",
    "  if guess < r:\n",
    "    print(\"Too low\")\n",
    "  elif guess > r:\n",
    "    print(\"Too high\")\n",
    "  else:\n",
    "    print(\"You got it\")"
   ]
  },
  {
   "cell_type": "code",
   "execution_count": 7,
   "metadata": {},
   "outputs": [],
   "source": [
    "def repeat_name(name = \"Nicola\", rep = 5):\n",
    "  count = 0\n",
    "  while count < rep:\n",
    "    print(name)\n",
    "    count += 1"
   ]
  },
  {
   "cell_type": "code",
   "execution_count": 8,
   "metadata": {},
   "outputs": [
    {
     "name": "stdout",
     "output_type": "stream",
     "text": [
      "JACK\n",
      "JACK\n",
      "JACK\n",
      "JACK\n",
      "JACK\n",
      "JACK\n",
      "JACK\n",
      "JACK\n",
      "JACK\n",
      "JACK\n",
      "JACK\n",
      "JACK\n",
      "JACK\n",
      "JACK\n",
      "JACK\n",
      "JACK\n",
      "JACK\n",
      "JACK\n",
      "JACK\n",
      "JACK\n",
      "JACK\n",
      "JACK\n",
      "JACK\n",
      "JACK\n",
      "JACK\n",
      "JACK\n",
      "JACK\n",
      "JACK\n",
      "JACK\n",
      "JACK\n"
     ]
    }
   ],
   "source": [
    "repeat_name(name = \"JACK\", rep = 30)"
   ]
  },
  {
   "cell_type": "code",
   "execution_count": 13,
   "metadata": {},
   "outputs": [],
   "source": [
    "def concat_dis(var1, var2):\n",
    "  value = str(var1) + str(var2)\n",
    "  if len(value) < 3:\n",
    "    print(\"it is a short concat\")\n",
    "  else:\n",
    "    print(\"it is ok\")\n",
    "  return value"
   ]
  },
  {
   "cell_type": "code",
   "execution_count": 14,
   "metadata": {},
   "outputs": [
    {
     "name": "stdout",
     "output_type": "stream",
     "text": [
      "it is ok\n"
     ]
    }
   ],
   "source": [
    "result = concat_dis(\"var1\", \"var2\")"
   ]
  },
  {
   "cell_type": "code",
   "execution_count": 15,
   "metadata": {},
   "outputs": [
    {
     "data": {
      "text/plain": [
       "'var1var2'"
      ]
     },
     "execution_count": 15,
     "metadata": {},
     "output_type": "execute_result"
    }
   ],
   "source": [
    "result"
   ]
  },
  {
   "cell_type": "code",
   "execution_count": null,
   "metadata": {},
   "outputs": [],
   "source": []
  }
 ],
 "metadata": {
  "kernelspec": {
   "display_name": ".venv",
   "language": "python",
   "name": "python3"
  },
  "language_info": {
   "codemirror_mode": {
    "name": "ipython",
    "version": 3
   },
   "file_extension": ".py",
   "mimetype": "text/x-python",
   "name": "python",
   "nbconvert_exporter": "python",
   "pygments_lexer": "ipython3",
   "version": "3.9.13"
  }
 },
 "nbformat": 4,
 "nbformat_minor": 2
}
